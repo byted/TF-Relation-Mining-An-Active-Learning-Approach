{
 "cells": [
  {
   "cell_type": "code",
   "execution_count": 83,
   "metadata": {
    "collapsed": true
   },
   "outputs": [],
   "source": [
    "import csv, re, json\n",
    "from collections import Counter\n",
    "\n",
    "fp = 'Supplement2.csv'\n",
    "with open(fp) as f:\n",
    "    reader = csv.DictReader(f)\n",
    "    d = list(reader)\n"
   ]
  },
  {
   "cell_type": "markdown",
   "metadata": {},
   "source": [
    "## Label calculation for each sentence"
   ]
  },
  {
   "cell_type": "code",
   "execution_count": 15,
   "metadata": {
    "collapsed": true
   },
   "outputs": [],
   "source": [
    "def count(d, key):\n",
    "    return Counter([i[key] for i in d]).most_common()"
   ]
  },
  {
   "cell_type": "markdown",
   "metadata": {},
   "source": [
    "From the paper\n",
    "* 1535 positive\n",
    "* 643 false positives\n",
    "* 322 somewhat positive"
   ]
  },
  {
   "cell_type": "code",
   "execution_count": 16,
   "metadata": {},
   "outputs": [
    {
     "data": {
      "text/plain": [
       "[('TP', 1535), ('FP', 631), ('NN', 334)]"
      ]
     },
     "execution_count": 16,
     "metadata": {},
     "output_type": "execute_result"
    }
   ],
   "source": [
    "count(d, 'class')"
   ]
  },
  {
   "cell_type": "markdown",
   "metadata": {},
   "source": [
    "some NN's are negative. The paper only counts 'cooperation/competition in transcription' to the somewhat positives."
   ]
  },
  {
   "cell_type": "code",
   "execution_count": 17,
   "metadata": {},
   "outputs": [
    {
     "data": {
      "text/plain": [
       "[('database', 875),\n",
       " ('general or irrelevant information', 512),\n",
       " ('binding to regulatory DNA-region/potential direct influence on expression',\n",
       "  352),\n",
       " ('cooperation/competition in transcription', 322),\n",
       " ('potential direct influence on expression', 291),\n",
       " ('incorrectly recognized gene name or identifier', 91),\n",
       " ('negative statement', 28),\n",
       " ('binding to regulatory DNA-region', 17),\n",
       " ('indirect interaction', 12)]"
      ]
     },
     "execution_count": 17,
     "metadata": {},
     "output_type": "execute_result"
    }
   ],
   "source": [
    "count(d, 'details')"
   ]
  },
  {
   "cell_type": "markdown",
   "metadata": {},
   "source": [
    "Now the numbers add up. Create 0/1 classified dataset."
   ]
  },
  {
   "cell_type": "markdown",
   "metadata": {},
   "source": [
    "## Example instance calculation\n",
    "It is only known which genes triggered the classification, not where they are in the sentence. If a sentence contains several mentions of the same gene, it is not possible to guess the correct one.\n",
    "\n",
    "First, a translation dictionary of some known naming differences is defined. Then, gene_find() employs heuristics to circumvent some systematic errors (capitalization etc.)"
   ]
  },
  {
   "cell_type": "code",
   "execution_count": 31,
   "metadata": {
    "collapsed": true
   },
   "outputs": [],
   "source": [
    "def gene_find(gene, sent):\n",
    "    trans = {\n",
    "        'Peroxisome proliferator-activated receptor-gamma/NFkB': 'Peroxisome proliferator-activated receptor-gamma',\n",
    "        'NEUROG3/E47': 'NEUROG3',\n",
    "        'Oct4/Gata-6': 'Oct4-Gata-6',\n",
    "        'Beta2/NeuoD1': 'Beta2/NeuroD1',\n",
    "        'TCF/Smad4': 'Smad4',\n",
    "        'Smad3/c-myc?': 'Smad3',\n",
    "        'PAX3/FKHR': 'PAX3-FKHR',\n",
    "        'MLL1': 'MLL',\n",
    "        'YY1/N1IC': 'N1IC'\n",
    "    }\n",
    "    g = list(re.finditer(re.escape(gene), sent))\n",
    "    if g == []:\n",
    "        g = list(re.finditer(re.escape(gene.lower()), sent.lower()))\n",
    "    if g == []:\n",
    "        trans_gene = trans.get(gene, gene)\n",
    "        g = list(re.finditer(re.escape(trans_gene), sent))\n",
    "    return g"
   ]
  },
  {
   "cell_type": "code",
   "execution_count": 32,
   "metadata": {},
   "outputs": [
    {
     "name": "stdout",
     "output_type": "stream",
     "text": [
      "perfect: 1504\n",
      "multiple: 996\n",
      "no: 0\n"
     ]
    }
   ],
   "source": [
    "unambiguity={'perfect':[], 'multiple': [], 'no':[]}\n",
    "for row in d:\n",
    "    gene1s = gene_find(row['gene1'], row['sentence'])\n",
    "    gene2s = gene_find(row['gene2'], row['sentence'])\n",
    "\n",
    "    \n",
    "    if len(gene1s) == 1 and len(gene2s) == 1:\n",
    "        unambiguity['perfect'].append(row)\n",
    "    elif len(gene1s) == 0 or len(gene2s) == 0:\n",
    "        row['matches'] = {'gene1': gene1s, 'gene2': gene2s}\n",
    "        unambiguity['no'].append(row)\n",
    "    elif len(gene1s) > 1 or len(gene2s) > 1:\n",
    "        unambiguity['multiple'].append(row)\n",
    "\n",
    "for k, v in unambiguity.items():\n",
    "    print('{}: {}'.format(k, len(v)))"
   ]
  },
  {
   "cell_type": "markdown",
   "metadata": {},
   "source": [
    "1504 sentences are unique. For the rest, a resolution has to be found. Export the unambigous ones."
   ]
  },
  {
   "cell_type": "code",
   "execution_count": 47,
   "metadata": {},
   "outputs": [],
   "source": [
    "with open(fp + 'unambigous', 'w') as f:\n",
    "    writer = csv.DictWriter(f, fieldnames=d[0].keys())\n",
    "    writer.writeheader()\n",
    "    for row in enriched:\n",
    "        writer.writerow(row)"
   ]
  },
  {
   "cell_type": "code",
   "execution_count": 8,
   "metadata": {
    "collapsed": true
   },
   "outputs": [],
   "source": [
    "with open(fp + '.ambigous', 'w') as f:\n",
    "    writer = csv.DictWriter(f, fieldnames=d[0].keys())\n",
    "    writer.writeheader()\n",
    "    for row in unambiguity['multiple']:\n",
    "        writer.writerow(row)"
   ]
  },
  {
   "cell_type": "markdown",
   "metadata": {},
   "source": [
    "Add 4 columns to the csv with information about the char position of the genes in the sentence"
   ]
  },
  {
   "cell_type": "code",
   "execution_count": 90,
   "metadata": {},
   "outputs": [],
   "source": [
    "import xml.etree.ElementTree as ET\n",
    "\n",
    "def build_ulf_xml_dict(ulf_xml_path):\n",
    "    \"\"\"Read ULF XML and create a dict of (sentence, gene1, gene2) -> (gene1 offset, gene2 offset)\"\"\"\n",
    "    root = ET.parse(ulf_xml_path).getroot()\n",
    "    offset_dict = {}\n",
    "    counter = 0\n",
    "    for docs in root.iter('document'):\n",
    "        for sent in docs.iter('sentence'):\n",
    "            entities = {el.get('id'): (el.get('text'), el.get('charOffset')) for el in sent.findall('entity')}\n",
    "            for pair in sent.findall('pair'):\n",
    "                offset_dict[(\n",
    "                    sent.get('text').strip(),\n",
    "                    entities[pair.get('e1')][0],\n",
    "                    entities[pair.get('e2')][0]\n",
    "                )] = (entities[pair.get('e1')][1], entities[pair.get('e2')][1])\n",
    "                if entities[pair.get('e1')][1] is None:\n",
    "                    print(sent.get('text').strip())\n",
    "    return offset_dict\n",
    "\n",
    "\n",
    "def enrich(rows):\n",
    "    ulf = build_ulf_xml_dict('../feedback_ulf.annotated.parsed.xml')\n",
    "    count = 0\n",
    "    for row in rows:\n",
    "        row['gene1_char_start'], row['gene1_char_end'], row['gene2_char_start'], row['gene2_char_end'] = None, None, None, None\n",
    "        gene1s = gene_find(row['gene1'], row['sentence'])\n",
    "        gene2s = gene_find(row['gene2'], row['sentence'])\n",
    "\n",
    "        if len(gene1s) == 1 and len(gene2s) == 1:\n",
    "            row['gene1_char_start'], row['gene1_char_end'] = [int(i) for i in gene1s[0].span()]\n",
    "            row['gene2_char_start'], row['gene2_char_end'] = [int(i) for i in gene2s[0].span()]\n",
    "        else:  # lookup the triple (sentence, gene1, gene2) in ULF XML\n",
    "            triple = (row['sentence'], row['gene1'], row['gene2'])\n",
    "            try:\n",
    "                [gene1_char_start, gene1_char_end], [gene2_char_start, gene2_char_end] = \\\n",
    "                    [pos.split('-') for pos in ulf[triple]]\n",
    "                row['gene1_char_start'], row['gene1_char_end'] = int(gene1_char_start), int(gene1_char_end)+1\n",
    "                row['gene2_char_start'], row['gene2_char_end'] = int(gene2_char_start), int(gene2_char_end)+1\n",
    "                # sanity check - none should be printed\n",
    "                if row['sentence'][row['gene1_char_start']:row['gene1_char_end']] != row['gene1']:\n",
    "                    print(row['sentence'][row['gene1_char_start']:row['gene1_char_end']], '//', row['gene1'])\n",
    "                if row['sentence'][row['gene2_char_start']:row['gene2_char_end']] != row['gene2']:\n",
    "                    print(row['sentence'][row['gene2_char_start']:row['gene2_char_end']], '//', row['gene2'])\n",
    "            except KeyError:\n",
    "                count += 1\n",
    "    print(count)\n",
    "    return rows"
   ]
  },
  {
   "cell_type": "code",
   "execution_count": 91,
   "metadata": {},
   "outputs": [
    {
     "name": "stdout",
     "output_type": "stream",
     "text": [
      "259\n"
     ]
    }
   ],
   "source": [
    "enriched = enrich(d)\n",
    "with open(fp + '.enriched', 'w') as f:\n",
    "    writer = csv.DictWriter(f, fieldnames=enriched[0].keys())\n",
    "    writer.writeheader()\n",
    "    for row in enriched:\n",
    "        writer.writerow(row)"
   ]
  }
 ],
 "metadata": {
  "kernelspec": {
   "display_name": "Python 3",
   "language": "python",
   "name": "python3"
  },
  "language_info": {
   "codemirror_mode": {
    "name": "ipython",
    "version": 3
   },
   "file_extension": ".py",
   "mimetype": "text/x-python",
   "name": "python",
   "nbconvert_exporter": "python",
   "pygments_lexer": "ipython3",
   "version": "3.6.1"
  }
 },
 "nbformat": 4,
 "nbformat_minor": 2
}
