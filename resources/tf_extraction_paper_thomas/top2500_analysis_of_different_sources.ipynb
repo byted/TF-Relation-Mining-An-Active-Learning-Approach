{
 "cells": [
  {
   "cell_type": "code",
   "execution_count": 2,
   "metadata": {
    "collapsed": true
   },
   "outputs": [],
   "source": [
    "import csv"
   ]
  },
  {
   "cell_type": "code",
   "execution_count": 33,
   "metadata": {},
   "outputs": [],
   "source": [
    "with open('TF.GO_enriched2.PMID-jSRE_v2_PD.both.csv') as f:\n",
    "    reader = csv.DictReader(f)\n",
    "    data2 = [l for l in reader] \n",
    "\n",
    "with open('Supplement2.csv') as f:\n",
    "    reader = csv.DictReader(f)\n",
    "    source = [l for l in reader]"
   ]
  },
  {
   "cell_type": "code",
   "execution_count": 34,
   "metadata": {},
   "outputs": [],
   "source": [
    "src_sents = set(i['sentence'] for i in source)\n",
    "data2_sents = set(i['Sentence'] for i in data2)"
   ]
  },
  {
   "cell_type": "code",
   "execution_count": 35,
   "metadata": {},
   "outputs": [
    {
     "name": "stdout",
     "output_type": "stream",
     "text": [
      "src 2228\n",
      "data2 3516\n"
     ]
    }
   ],
   "source": [
    "print('src', len(src_sents))\n",
    "print('data2', len(data2))"
   ]
  },
  {
   "cell_type": "code",
   "execution_count": 36,
   "metadata": {},
   "outputs": [
    {
     "data": {
      "text/plain": [
       "2223"
      ]
     },
     "execution_count": 36,
     "metadata": {},
     "output_type": "execute_result"
    }
   ],
   "source": [
    "res = src_sents & data2_sents\n",
    "len(res)"
   ]
  },
  {
   "cell_type": "markdown",
   "metadata": {},
   "source": [
    "This looks good, only a few missing. Maybe its b/c of slight differences?"
   ]
  },
  {
   "cell_type": "code",
   "execution_count": 37,
   "metadata": {},
   "outputs": [
    {
     "data": {
      "text/plain": [
       "0"
      ]
     },
     "execution_count": 37,
     "metadata": {},
     "output_type": "execute_result"
    }
   ],
   "source": [
    "res = set(i.strip() for i in src_sents) & set(i.strip for i in data2_sents)\n",
    "len(res)"
   ]
  },
  {
   "cell_type": "markdown",
   "metadata": {},
   "source": [
    "It is. So every sentence from out top2500 is in data2. But what about the relations within these sentences?"
   ]
  },
  {
   "cell_type": "code",
   "execution_count": 38,
   "metadata": {},
   "outputs": [
    {
     "name": "stdout",
     "output_type": "stream",
     "text": [
      "2500 2499\n"
     ]
    }
   ],
   "source": [
    "data2_keys = set((i['Gene_mention1'].lower(), i['Gene_mention2'].lower(), i['Sentence'].strip()) for i in data2)\n",
    "src_keys = set((i['gene1'].lower(), i['gene2'].lower(), i['sentence'].strip()) for i in source)\n",
    "print(len(source), len(src_keys))"
   ]
  },
  {
   "cell_type": "markdown",
   "metadata": {},
   "source": [
    "That should not happen, investigate..."
   ]
  },
  {
   "cell_type": "code",
   "execution_count": 39,
   "metadata": {},
   "outputs": [
    {
     "data": {
      "text/plain": [
       "[(('GATA-binding protein',\n",
       "   'GATA-4',\n",
       "   'These results demonstrate the selective role of GATA-4 in the transcriptional regulation of the IL-5 gene in a circumstance where multiple members of the GATA-binding proteins are expressed'),\n",
       "  2)]"
      ]
     },
     "execution_count": 39,
     "metadata": {},
     "output_type": "execute_result"
    }
   ],
   "source": [
    "from collections import Counter\n",
    "Counter((i['gene1'], i['gene2'], i['sentence'].strip()) for i in source).most_common(1)"
   ]
  },
  {
   "cell_type": "markdown",
   "metadata": {},
   "source": [
    "This entry is part of two different abstracts (different pubmed id). data2 contains the entry 2 times as well with the same prediction. so ignore for now."
   ]
  },
  {
   "cell_type": "code",
   "execution_count": 40,
   "metadata": {},
   "outputs": [
    {
     "data": {
      "text/plain": [
       "2445"
      ]
     },
     "execution_count": 40,
     "metadata": {},
     "output_type": "execute_result"
    }
   ],
   "source": [
    "c = 0\n",
    "missing = []\n",
    "d = data2_keys.copy()\n",
    "for g1, g2, t in src_keys:  # ignore order of genes\n",
    "    if (g1, g2, t) in d:\n",
    "        c += 1\n",
    "        d.remove((g1,g2,t))\n",
    "    elif (g2, g1, t) in d:\n",
    "        c += 1\n",
    "        d.remove((g2, g1, t))\n",
    "    else:\n",
    "        missing.append((g1, g2, t))\n",
    "c"
   ]
  },
  {
   "cell_type": "markdown",
   "metadata": {},
   "source": [
    "still 55 missing due to gene name normalisation issues as shown below:"
   ]
  },
  {
   "cell_type": "code",
   "execution_count": 42,
   "metadata": {},
   "outputs": [
    {
     "data": {
      "text/plain": [
       "('coup-tf',\n",
       " 'rarbeta',\n",
       " 'In a transient transfection assay, COUP-TF strongly induced transcriptional activity of the RARbeta promoter in a RA- and RARalpha-dependent manner.')"
      ]
     },
     "execution_count": 42,
     "metadata": {},
     "output_type": "execute_result"
    }
   ],
   "source": [
    "missing[6]"
   ]
  },
  {
   "cell_type": "code",
   "execution_count": 43,
   "metadata": {},
   "outputs": [
    {
     "data": {
      "text/plain": [
       "[('raralpha',\n",
       "  'coup-tf',\n",
       "  'In a transient transfection assay, COUP-TF strongly induced transcriptional activity of the RARbeta promoter in a RA- and RARalpha-dependent manner.'),\n",
       " ('rarbeta',\n",
       "  'coup-tf',\n",
       "  'In a transient transfection assay, COUP-TF strongly induced transcriptional activity of the RARbeta promoter in a RA- and RARalpha-dependent manner.')]"
      ]
     },
     "execution_count": 43,
     "metadata": {},
     "output_type": "execute_result"
    }
   ],
   "source": [
    "[d for d in data2_keys if d[2].startswith('In a transient transfection assay, COUP-TF strongly ')]"
   ]
  },
  {
   "cell_type": "markdown",
   "metadata": {},
   "source": [
    "## Conclusion\n",
    "\n",
    "- every interaction described in Supplements2.xls is also available in TF.GO_enriched2.PMID-jSRE_v2_PD.both.csv\n",
    "- gene1 / gene2 might be switched\n",
    "- gene names are not normalized the same way"
   ]
  }
 ],
 "metadata": {
  "kernelspec": {
   "display_name": "Python 3",
   "language": "python",
   "name": "python3"
  },
  "language_info": {
   "codemirror_mode": {
    "name": "ipython",
    "version": 3
   },
   "file_extension": ".py",
   "mimetype": "text/x-python",
   "name": "python",
   "nbconvert_exporter": "python",
   "pygments_lexer": "ipython3",
   "version": "3.6.1"
  }
 },
 "nbformat": 4,
 "nbformat_minor": 2
}
