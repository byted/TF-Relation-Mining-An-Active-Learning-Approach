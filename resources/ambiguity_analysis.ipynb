{
 "cells": [
  {
   "cell_type": "code",
   "execution_count": 4,
   "metadata": {
    "collapsed": true
   },
   "outputs": [],
   "source": [
    "import json, csv, re\n",
    "import xml.etree.ElementTree as ET\n",
    "\n",
    "with open('./tf_extraction_paper_thomas/TF.GO_enriched2.PMID-jSRE_v2_PD.both.sorted.csv', 'r') as f:\n",
    "    data = [l for l in csv.DictReader(f)]"
   ]
  },
  {
   "cell_type": "code",
   "execution_count": 7,
   "metadata": {},
   "outputs": [
    {
     "name": "stdout",
     "output_type": "stream",
     "text": [
      "unique:  1949\n",
      "missing:  0\n",
      "ambigious:  1567\n"
     ]
    }
   ],
   "source": [
    "unique = []\n",
    "missing = []\n",
    "ambigous = []\n",
    "\n",
    "for l in data:\n",
    "    sentence = l['Sentence']\n",
    "    gene1, gene2 = l['Gene_mention1'], l['Gene_mention2']\n",
    "    \n",
    "    gene1_matches = re.findall(re.escape(gene1), sentence)\n",
    "    gene2_matches = re.findall(re.escape(gene2), sentence)   \n",
    "    if len(gene1_matches) == 1 and len(gene2_matches) == 1:\n",
    "        unique.append(l)\n",
    "        continue\n",
    "    if len(gene1_matches) == 0 or len(gene2_matches) == 0:\n",
    "        missing.append(l)\n",
    "    if len(gene1_matches) > 1 or len(gene2_matches) > 1:\n",
    "        ambigous.append(l)\n",
    "\n",
    "print('unique: ', len(unique))\n",
    "print('missing: ', len(missing))\n",
    "print('ambigious: ', len(ambigous))"
   ]
  }
 ],
 "metadata": {
  "kernelspec": {
   "display_name": "Python 3",
   "language": "python",
   "name": "python3"
  },
  "language_info": {
   "codemirror_mode": {
    "name": "ipython",
    "version": 3
   },
   "file_extension": ".py",
   "mimetype": "text/x-python",
   "name": "python",
   "nbconvert_exporter": "python",
   "pygments_lexer": "ipython3",
   "version": "3.6.1"
  }
 },
 "nbformat": 4,
 "nbformat_minor": 2
}
