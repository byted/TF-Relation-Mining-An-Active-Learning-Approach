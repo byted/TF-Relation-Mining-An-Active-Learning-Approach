{
 "cells": [
  {
   "cell_type": "code",
   "execution_count": 7,
   "metadata": {
    "collapsed": false,
    "deletable": true,
    "editable": true
   },
   "outputs": [],
   "source": [
    "import pygal, json, csv\n",
    "from collections import Counter\n",
    "from pygal.style import DefaultStyle"
   ]
  },
  {
   "cell_type": "code",
   "execution_count": 19,
   "metadata": {
    "collapsed": true,
    "deletable": true,
    "editable": true
   },
   "outputs": [],
   "source": [
    "%matplotlib inline\n",
    "from IPython.display import SVG, HTML\n",
    "html_pygal = \"\"\"\n",
    "<!DOCTYPE html>\n",
    "<html>\n",
    "  <head>\n",
    "  <script type=\"text/javascript\" src=\"http://kozea.github.com/pygal.js/javascripts/svg.jquery.js\"></script>\n",
    "  <script type=\"text/javascript\" src=\"http://kozea.github.com/pygal.js/javascripts/pygal-tooltips.js\"></script>\n",
    "    <!-- ... -->\n",
    "  </head>\n",
    "  <body>\n",
    "    <figure style=\"width:50%;\">\n",
    "      {pygal_render}\n",
    "    </figure>\n",
    "  </body>\n",
    "</html>\n",
    "\"\"\"\n",
    "my_style=DefaultStyle(\n",
    "                  value_font_family='sans-serif',\n",
    "                  value_colors=('white','white'),\n",
    "                background='white',\n",
    "                plot_background='white',\n",
    "                label_font_size=34,\n",
    "                major_label_font_size=34,\n",
    "                value_font_size=38,\n",
    "                legend_font_size=34)\n",
    "out_base = '../assets/'\n",
    "my_kwargs = {\n",
    "    'legend_at_bottom': True,\n",
    "    'y_labels_major_every': 10000,\n",
    "    'margin_bottom': -45,\n",
    "    'margin_left': -2,\n",
    "    'margin_right': -2,\n",
    "    'margin_top': 5,\n",
    "    'style': my_style\n",
    "}"
   ]
  },
  {
   "cell_type": "markdown",
   "metadata": {
    "deletable": true,
    "editable": true
   },
   "source": [
    "## Data Visualization"
   ]
  },
  {
   "cell_type": "code",
   "execution_count": 9,
   "metadata": {
    "collapsed": true,
    "deletable": true,
    "editable": true
   },
   "outputs": [],
   "source": [
    "with open('../preprocessed_training_data/genereg.jsre') as f:\n",
    "    reader = csv.reader(f, delimiter='\\t')\n",
    "    genereg = [l for l in reader]\n",
    "\n",
    "with open('../preprocessed_training_data/top2241.jsre') as f:\n",
    "    reader = csv.reader(f, delimiter='\\t')\n",
    "    top2241 = [l for l in reader]"
   ]
  },
  {
   "cell_type": "code",
   "execution_count": 10,
   "metadata": {
    "collapsed": true,
    "deletable": true,
    "editable": true
   },
   "outputs": [],
   "source": [
    "top_cntr = Counter([v[0] for v in top2241])\n",
    "genereg_cntr = Counter([v[0] for v in genereg])"
   ]
  },
  {
   "cell_type": "code",
   "execution_count": 21,
   "metadata": {
    "collapsed": false,
    "deletable": true,
    "editable": true
   },
   "outputs": [
    {
     "data": {
      "text/html": [
       "\n",
       "<!DOCTYPE html>\n",
       "<html>\n",
       "  <head>\n",
       "  <script type=\"text/javascript\" src=\"http://kozea.github.com/pygal.js/javascripts/svg.jquery.js\"></script>\n",
       "  <script type=\"text/javascript\" src=\"http://kozea.github.com/pygal.js/javascripts/pygal-tooltips.js\"></script>\n",
       "    <!-- ... -->\n",
       "  </head>\n",
       "  <body>\n",
       "    <figure style=\"width:50%;\">\n",
       "      b'<?xml version=\\'1.0\\' encoding=\\'utf-8\\'?>\\n<svg xmlns:xlink=\"http://www.w3.org/1999/xlink\" xmlns=\"http://www.w3.org/2000/svg\" id=\"chart-56b3550f-e2a4-4a1f-850c-f5de7d1df473\" class=\"pygal-chart\" viewBox=\"0 0 800 600\"><!--Generated with pygal 2.4.0 (lxml) \\xc2\\xa9Kozea 2012-2016 on 2017-07-11--><!--http://pygal.org--><!--http://github.com/Kozea/pygal--><defs><style type=\"text/css\">#chart-56b3550f-e2a4-4a1f-850c-f5de7d1df473{-webkit-user-select:none;-webkit-font-smoothing:antialiased;font-family:Consolas,\"Liberation Mono\",Menlo,Courier,monospace}#chart-56b3550f-e2a4-4a1f-850c-f5de7d1df473 .title{font-family:Consolas,\"Liberation Mono\",Menlo,Courier,monospace;font-size:16px}#chart-56b3550f-e2a4-4a1f-850c-f5de7d1df473 .legends .legend text{font-family:Consolas,\"Liberation Mono\",Menlo,Courier,monospace;font-size:34px}#chart-56b3550f-e2a4-4a1f-850c-f5de7d1df473 .axis text{font-family:Consolas,\"Liberation Mono\",Menlo,Courier,monospace;font-size:34px}#chart-56b3550f-e2a4-4a1f-850c-f5de7d1df473 .axis text.major{font-family:Consolas,\"Liberation Mono\",Menlo,Courier,monospace;font-size:34px}#chart-56b3550f-e2a4-4a1f-850c-f5de7d1df473 .text-overlay text.value{font-family:sans-serif;font-size:38px}#chart-56b3550f-e2a4-4a1f-850c-f5de7d1df473 .text-overlay text.label{font-family:Consolas,\"Liberation Mono\",Menlo,Courier,monospace;font-size:10px}#chart-56b3550f-e2a4-4a1f-850c-f5de7d1df473 .tooltip{font-family:Consolas,\"Liberation Mono\",Menlo,Courier,monospace;font-size:14px}#chart-56b3550f-e2a4-4a1f-850c-f5de7d1df473 text.no_data{font-family:Consolas,\"Liberation Mono\",Menlo,Courier,monospace;font-size:64px}\\n#chart-56b3550f-e2a4-4a1f-850c-f5de7d1df473{background-color:white}#chart-56b3550f-e2a4-4a1f-850c-f5de7d1df473 path,#chart-56b3550f-e2a4-4a1f-850c-f5de7d1df473 line,#chart-56b3550f-e2a4-4a1f-850c-f5de7d1df473 rect,#chart-56b3550f-e2a4-4a1f-850c-f5de7d1df473 circle{-webkit-transition:150ms;-moz-transition:150ms;transition:150ms}#chart-56b3550f-e2a4-4a1f-850c-f5de7d1df473 .graph &gt; .background{fill:white}#chart-56b3550f-e2a4-4a1f-850c-f5de7d1df473 .plot &gt; .background{fill:white}#chart-56b3550f-e2a4-4a1f-850c-f5de7d1df473 .graph{fill:rgba(0,0,0,.87)}#chart-56b3550f-e2a4-4a1f-850c-f5de7d1df473 text.no_data{fill:rgba(0,0,0,1)}#chart-56b3550f-e2a4-4a1f-850c-f5de7d1df473 .title{fill:rgba(0,0,0,1)}#chart-56b3550f-e2a4-4a1f-850c-f5de7d1df473 .legends .legend text{fill:rgba(0,0,0,.87)}#chart-56b3550f-e2a4-4a1f-850c-f5de7d1df473 .legends .legend:hover text{fill:rgba(0,0,0,1)}#chart-56b3550f-e2a4-4a1f-850c-f5de7d1df473 .axis .line{stroke:rgba(0,0,0,1)}#chart-56b3550f-e2a4-4a1f-850c-f5de7d1df473 .axis .guide.line{stroke:rgba(0,0,0,.54)}#chart-56b3550f-e2a4-4a1f-850c-f5de7d1df473 .axis .major.line{stroke:rgba(0,0,0,.87)}#chart-56b3550f-e2a4-4a1f-850c-f5de7d1df473 .axis text.major{fill:rgba(0,0,0,1)}#chart-56b3550f-e2a4-4a1f-850c-f5de7d1df473 .axis.y .guides:hover .guide.line,#chart-56b3550f-e2a4-4a1f-850c-f5de7d1df473 .line-graph .axis.x .guides:hover .guide.line,#chart-56b3550f-e2a4-4a1f-850c-f5de7d1df473 .stackedline-graph .axis.x .guides:hover .guide.line,#chart-56b3550f-e2a4-4a1f-850c-f5de7d1df473 .xy-graph .axis.x .guides:hover .guide.line{stroke:rgba(0,0,0,1)}#chart-56b3550f-e2a4-4a1f-850c-f5de7d1df473 .axis .guides:hover text{fill:rgba(0,0,0,1)}#chart-56b3550f-e2a4-4a1f-850c-f5de7d1df473 .reactive{fill-opacity:.7;stroke-opacity:.8}#chart-56b3550f-e2a4-4a1f-850c-f5de7d1df473 .ci{stroke:rgba(0,0,0,.87)}#chart-56b3550f-e2a4-4a1f-850c-f5de7d1df473 .reactive.active,#chart-56b3550f-e2a4-4a1f-850c-f5de7d1df473 .active .reactive{fill-opacity:.8;stroke-opacity:.9;stroke-width:4}#chart-56b3550f-e2a4-4a1f-850c-f5de7d1df473 .ci .reactive.active{stroke-width:1.5}#chart-56b3550f-e2a4-4a1f-850c-f5de7d1df473 .series text{fill:rgba(0,0,0,1)}#chart-56b3550f-e2a4-4a1f-850c-f5de7d1df473 .tooltip rect{fill:white;stroke:rgba(0,0,0,1);-webkit-transition:opacity 150ms;-moz-transition:opacity 150ms;transition:opacity 150ms}#chart-56b3550f-e2a4-4a1f-850c-f5de7d1df473 .tooltip .label{fill:rgba(0,0,0,.87)}#chart-56b3550f-e2a4-4a1f-850c-f5de7d1df473 .tooltip .label{fill:rgba(0,0,0,.87)}#chart-56b3550f-e2a4-4a1f-850c-f5de7d1df473 .tooltip .legend{font-size:.8em;fill:rgba(0,0,0,.54)}#chart-56b3550f-e2a4-4a1f-850c-f5de7d1df473 .tooltip .x_label{font-size:.6em;fill:rgba(0,0,0,1)}#chart-56b3550f-e2a4-4a1f-850c-f5de7d1df473 .tooltip .xlink{font-size:.5em;text-decoration:underline}#chart-56b3550f-e2a4-4a1f-850c-f5de7d1df473 .tooltip .value{font-size:1.5em}#chart-56b3550f-e2a4-4a1f-850c-f5de7d1df473 .bound{font-size:.5em}#chart-56b3550f-e2a4-4a1f-850c-f5de7d1df473 .max-value{font-size:.75em;fill:rgba(0,0,0,.54)}#chart-56b3550f-e2a4-4a1f-850c-f5de7d1df473 .map-element{fill:white;stroke:rgba(0,0,0,.54) !important}#chart-56b3550f-e2a4-4a1f-850c-f5de7d1df473 .map-element .reactive{fill-opacity:inherit;stroke-opacity:inherit}#chart-56b3550f-e2a4-4a1f-850c-f5de7d1df473 .color-0,#chart-56b3550f-e2a4-4a1f-850c-f5de7d1df473 .color-0 a:visited{stroke:#F44336;fill:#F44336}#chart-56b3550f-e2a4-4a1f-850c-f5de7d1df473 .color-1,#chart-56b3550f-e2a4-4a1f-850c-f5de7d1df473 .color-1 a:visited{stroke:#3F51B5;fill:#3F51B5}#chart-56b3550f-e2a4-4a1f-850c-f5de7d1df473 .text-overlay .color-0 text{fill:white}#chart-56b3550f-e2a4-4a1f-850c-f5de7d1df473 .text-overlay .color-1 text{fill:white}\\n#chart-56b3550f-e2a4-4a1f-850c-f5de7d1df473 text.no_data{text-anchor:middle}#chart-56b3550f-e2a4-4a1f-850c-f5de7d1df473 .guide.line{fill:none}#chart-56b3550f-e2a4-4a1f-850c-f5de7d1df473 .centered{text-anchor:middle}#chart-56b3550f-e2a4-4a1f-850c-f5de7d1df473 .title{text-anchor:middle}#chart-56b3550f-e2a4-4a1f-850c-f5de7d1df473 .legends .legend text{fill-opacity:1}#chart-56b3550f-e2a4-4a1f-850c-f5de7d1df473 .axis.x text{text-anchor:middle}#chart-56b3550f-e2a4-4a1f-850c-f5de7d1df473 .axis.x:not(.web) text[transform]{text-anchor:start}#chart-56b3550f-e2a4-4a1f-850c-f5de7d1df473 .axis.x:not(.web) text[transform].backwards{text-anchor:end}#chart-56b3550f-e2a4-4a1f-850c-f5de7d1df473 .axis.y text{text-anchor:end}#chart-56b3550f-e2a4-4a1f-850c-f5de7d1df473 .axis.y text[transform].backwards{text-anchor:start}#chart-56b3550f-e2a4-4a1f-850c-f5de7d1df473 .axis.y2 text{text-anchor:start}#chart-56b3550f-e2a4-4a1f-850c-f5de7d1df473 .axis.y2 text[transform].backwards{text-anchor:end}#chart-56b3550f-e2a4-4a1f-850c-f5de7d1df473 .axis .guide.line{stroke-dasharray:4,4}#chart-56b3550f-e2a4-4a1f-850c-f5de7d1df473 .axis .major.guide.line{stroke-dasharray:6,6}#chart-56b3550f-e2a4-4a1f-850c-f5de7d1df473 .horizontal .axis.y .guide.line,#chart-56b3550f-e2a4-4a1f-850c-f5de7d1df473 .horizontal .axis.y2 .guide.line,#chart-56b3550f-e2a4-4a1f-850c-f5de7d1df473 .vertical .axis.x .guide.line{opacity:0}#chart-56b3550f-e2a4-4a1f-850c-f5de7d1df473 .horizontal .axis.always_show .guide.line,#chart-56b3550f-e2a4-4a1f-850c-f5de7d1df473 .vertical .axis.always_show .guide.line{opacity:1 !important}#chart-56b3550f-e2a4-4a1f-850c-f5de7d1df473 .axis.y .guides:hover .guide.line,#chart-56b3550f-e2a4-4a1f-850c-f5de7d1df473 .axis.y2 .guides:hover .guide.line,#chart-56b3550f-e2a4-4a1f-850c-f5de7d1df473 .axis.x .guides:hover .guide.line{opacity:1}#chart-56b3550f-e2a4-4a1f-850c-f5de7d1df473 .axis .guides:hover text{opacity:1}#chart-56b3550f-e2a4-4a1f-850c-f5de7d1df473 .nofill{fill:none}#chart-56b3550f-e2a4-4a1f-850c-f5de7d1df473 .subtle-fill{fill-opacity:.2}#chart-56b3550f-e2a4-4a1f-850c-f5de7d1df473 .dot{stroke-width:1px;fill-opacity:1}#chart-56b3550f-e2a4-4a1f-850c-f5de7d1df473 .dot.active{stroke-width:5px}#chart-56b3550f-e2a4-4a1f-850c-f5de7d1df473 .dot.negative{fill:transparent}#chart-56b3550f-e2a4-4a1f-850c-f5de7d1df473 text,#chart-56b3550f-e2a4-4a1f-850c-f5de7d1df473 tspan{stroke:none !important}#chart-56b3550f-e2a4-4a1f-850c-f5de7d1df473 .series text.active{opacity:1}#chart-56b3550f-e2a4-4a1f-850c-f5de7d1df473 .tooltip rect{fill-opacity:.95;stroke-width:.5}#chart-56b3550f-e2a4-4a1f-850c-f5de7d1df473 .tooltip text{fill-opacity:1}#chart-56b3550f-e2a4-4a1f-850c-f5de7d1df473 .showable{visibility:hidden}#chart-56b3550f-e2a4-4a1f-850c-f5de7d1df473 .showable.shown{visibility:visible}#chart-56b3550f-e2a4-4a1f-850c-f5de7d1df473 .gauge-background{fill:rgba(229,229,229,1);stroke:none}#chart-56b3550f-e2a4-4a1f-850c-f5de7d1df473 .bg-lines{stroke:white;stroke-width:2px}</style><script type=\"text/javascript\">window.pygal = window.pygal || {};window.pygal.config = window.pygal.config || {};window.pygal.config[\\'56b3550f-e2a4-4a1f-850c-f5de7d1df473\\'] = {\"box_mode\": \"extremes\", \"x_labels_major_every\": null, \"legend_at_bottom\": true, \"allow_interruptions\": false, \"pretty_print\": false, \"legends\": [\"Positive\", \"Negative\"], \"min_scale\": 4, \"rounded_bars\": null, \"margin_right\": -2, \"show_minor_x_labels\": true, \"title\": null, \"y_labels_major_every\": 10000, \"no_data_text\": \"No data\", \"print_values_position\": \"center\", \"missing_value_fill_truncation\": \"x\", \"y_labels_major_count\": null, \"js\": [\"//kozea.github.io/pygal.js/2.0.x/pygal-tooltips.min.js\"], \"stack_from_top\": false, \"zero\": 0, \"dots_size\": 2.5, \"range\": null, \"margin_bottom\": -45, \"x_title\": null, \"legend_at_bottom_columns\": null, \"tooltip_fancy_mode\": true, \"style\": {\"value_background\": \"rgba(229, 229, 229, 1)\", \"colors\": [\"#F44336\", \"#3F51B5\", \"#009688\", \"#FFC107\", \"#FF5722\", \"#9C27B0\", \"#03A9F4\", \"#8BC34A\", \"#FF9800\", \"#E91E63\", \"#2196F3\", \"#4CAF50\", \"#FFEB3B\", \"#673AB7\", \"#00BCD4\", \"#CDDC39\", \"#9E9E9E\", \"#607D8B\"], \"title_font_family\": \"Consolas, \\\\\"Liberation Mono\\\\\", Menlo, Courier, monospace\", \"foreground_subtle\": \"rgba(0, 0, 0, .54)\", \"stroke_opacity\": \".8\", \"tooltip_font_size\": 14, \"value_label_font_size\": 10, \"no_data_font_size\": 64, \"ci_colors\": [], \"background\": \"white\", \"major_label_font_family\": \"Consolas, \\\\\"Liberation Mono\\\\\", Menlo, Courier, monospace\", \"opacity_hover\": \".8\", \"value_label_font_family\": \"Consolas, \\\\\"Liberation Mono\\\\\", Menlo, Courier, monospace\", \"legend_font_family\": \"Consolas, \\\\\"Liberation Mono\\\\\", Menlo, Courier, monospace\", \"no_data_font_family\": \"Consolas, \\\\\"Liberation Mono\\\\\", Menlo, Courier, monospace\", \"label_font_size\": 34, \"major_guide_stroke_dasharray\": \"6,6\", \"guide_stroke_dasharray\": \"4,4\", \"font_family\": \"Consolas, \\\\\"Liberation Mono\\\\\", Menlo, Courier, monospace\", \"transition\": \"150ms\", \"title_font_size\": 16, \"stroke_opacity_hover\": \".9\", \"label_font_family\": \"Consolas, \\\\\"Liberation Mono\\\\\", Menlo, Courier, monospace\", \"foreground_strong\": \"rgba(0, 0, 0, 1)\", \"legend_font_size\": 34, \"plot_background\": \"white\", \"value_font_family\": \"sans-serif\", \"tooltip_font_family\": \"Consolas, \\\\\"Liberation Mono\\\\\", Menlo, Courier, monospace\", \"major_label_font_size\": 34, \"value_font_size\": 38, \"value_colors\": [\"white\", \"white\"], \"opacity\": \".7\", \"foreground\": \"rgba(0, 0, 0, .87)\"}, \"logarithmic\": false, \"y_labels\": [0, 500, 1000, 1500, 2000, 2500], \"y_title\": null, \"y_label_rotation\": 0, \"secondary_range\": null, \"no_prefix\": false, \"margin_top\": 5, \"order_min\": null, \"interpolate\": null, \"x_labels_major\": null, \"disable_xml_declaration\": false, \"tooltip_border_radius\": 0, \"half_pie\": false, \"height\": 600, \"x_labels\": [\"GeneReg\", \"Top2241\"], \"margin\": 20, \"max_scale\": 16, \"print_labels\": false, \"show_y_guides\": true, \"classes\": [\"pygal-chart\"], \"include_x_axis\": false, \"print_values\": true, \"interpolation_parameters\": {}, \"show_only_major_dots\": false, \"force_uri_protocol\": \"https\", \"interpolation_precision\": 250, \"y_labels_major\": null, \"width\": 800, \"dynamic_print_values\": false, \"defs\": [], \"inverse_y_axis\": false, \"formatter\": null, \"strict\": false, \"inner_radius\": 0, \"css\": [\"file://style.css\", \"file://graph.css\"], \"margin_left\": -2, \"show_dots\": true, \"fill\": false, \"explicit_size\": false, \"x_labels_major_count\": null, \"truncate_legend\": null, \"show_minor_y_labels\": true, \"stroke_style\": null, \"show_y_labels\": true, \"show_legend\": true, \"show_x_labels\": true, \"spacing\": 10, \"show_x_guides\": false, \"print_zeroes\": true, \"xrange\": null, \"truncate_label\": null, \"x_label_rotation\": 0, \"legend_box_size\": 12, \"stroke\": true}</script><script type=\"text/javascript\" xlink:href=\"https://kozea.github.io/pygal.js/2.0.x/pygal-tooltips.min.js\"/></defs><title>Pygal</title><g class=\"graph stackedbar-graph vertical\"><rect class=\"background\" height=\"600\" width=\"800\" x=\"0\" y=\"0\"/><g class=\"plot\" transform=\"translate(89, 5)\"><rect class=\"background\" height=\"501.0\" width=\"712.4\" x=\"0\" y=\"0\"/><g class=\"axis y always_show\"><g class=\"guides\"><path class=\"axis major line\" d=\"M0.000000 491.365385 h712.400000\"/><text class=\"major\" x=\"-5\" y=\"503.2653846153846\">0</text><title>0</title></g><g class=\"guides\"><path class=\"guide line\" d=\"M0.000000 402.254994 h712.400000\"/><text class=\"\" x=\"-5\" y=\"414.1549944506104\">500</text><title>500</title></g><g class=\"guides\"><path class=\"guide line\" d=\"M0.000000 313.144604 h712.400000\"/><text class=\"\" x=\"-5\" y=\"325.0446042858363\">1000</text><title>1000</title></g><g class=\"guides\"><path class=\"guide line\" d=\"M0.000000 224.034214 h712.400000\"/><text class=\"\" x=\"-5\" y=\"235.93421412106207\">1500</text><title>1500</title></g><g class=\"guides\"><path class=\"guide line\" d=\"M0.000000 134.923824 h712.400000\"/><text class=\"\" x=\"-5\" y=\"146.8238239562879\">2000</text><title>2000</title></g><g class=\"guides\"><path class=\"guide line\" d=\"M0.000000 45.813434 h712.400000\"/><text class=\"\" x=\"-5\" y=\"57.71343379151366\">2500</text><title>2500</title></g></g><g class=\"axis x\"><path class=\"line\" d=\"M0.000000 0.000000 v501.000000\"/><g class=\"guides\"><path class=\"guide line\" d=\"M184.950000 0.000000 v501.000000\"/><text class=\"\" x=\"184.95000000000002\" y=\"528.0\">GeneReg</text></g><g class=\"guides\"><path class=\"guide line\" d=\"M527.450000 0.000000 v501.000000\"/><text class=\"\" x=\"527.4499999999999\" y=\"528.0\">Top2241</text></g></g><g class=\"series serie-0 color-0\"><g class=\"bars\"><g class=\"bar\"><rect class=\"rect reactive tooltip-trigger\" height=\"200.67659865107146\" rx=\"0\" ry=\"0\" width=\"301.4\" x=\"34.25\" y=\"290.6887859643132\"/><desc class=\"value\">1126</desc><desc class=\"x centered\">184.95</desc><desc class=\"y centered\">391.0270852898489</desc><desc class=\"x_label\">GeneReg</desc></g><g class=\"bar\"><rect class=\"rect reactive tooltip-trigger\" height=\"293.7078459830957\" rx=\"0\" ry=\"0\" width=\"301.4\" x=\"376.75\" y=\"197.65753863228895\"/><desc class=\"value\">1648</desc><desc class=\"x centered\">527.45</desc><desc class=\"y centered\">344.5114616238368</desc><desc class=\"x_label\">Top2241</desc></g></g></g><g class=\"series serie-1 color-1\"><g class=\"bars\"><g class=\"bar\"><rect class=\"rect reactive tooltip-trigger\" height=\"281.0541705796978\" rx=\"0\" ry=\"0\" width=\"301.4\" x=\"34.25\" y=\"9.634615384615358\"/><desc class=\"value\">1577</desc><desc class=\"x centered\">184.95</desc><desc class=\"y centered\">150.16170067446427</desc><desc class=\"x_label\">GeneReg</desc></g><g class=\"bar\"><rect class=\"rect reactive tooltip-trigger\" height=\"105.68492273542228\" rx=\"0\" ry=\"0\" width=\"301.4\" x=\"376.75\" y=\"91.97261589686667\"/><desc class=\"value\">593</desc><desc class=\"x centered\">527.45</desc><desc class=\"y centered\">144.8150772645778</desc><desc class=\"x_label\">Top2241</desc></g></g></g></g><g class=\"titles\"/><g class=\"plot overlay\" transform=\"translate(89, 5)\"><g class=\"series serie-0 color-0\"/><g class=\"series serie-1 color-1\"/></g><g class=\"plot text-overlay\" transform=\"translate(89, 5)\"><g class=\"series serie-0 color-0\"><text class=\"value\" text-anchor=\"middle\" x=\"184.95\" y=\"403.6937519565156\">1126</text><text class=\"value\" text-anchor=\"middle\" x=\"527.45\" y=\"357.1781282905035\">1648</text></g><g class=\"series serie-1 color-1\"><text class=\"value\" text-anchor=\"middle\" x=\"184.95\" y=\"162.82836734113093\">1577</text><text class=\"value\" text-anchor=\"middle\" x=\"527.45\" y=\"157.48174393124447\">593</text></g></g><g class=\"plot tooltip-overlay\" transform=\"translate(89, 5)\"><g class=\"tooltip\" style=\"opacity: 0\" transform=\"translate(0 0)\"><rect class=\"tooltip-box\" height=\"0\" rx=\"0\" ry=\"0\" width=\"0\"/><g class=\"text\"/></g></g><g class=\"legends\" transform=\"translate(99, 560)\"><g class=\"legend reactive activate-serie\" id=\"activate-serie-0\"><rect class=\"color-0 reactive\" height=\"12\" width=\"12\" x=\"0.0\" y=\"11.0\"/><text x=\"17.0\" y=\"27.2\">Positive</text></g><g class=\"legend reactive activate-serie\" id=\"activate-serie-1\"><rect class=\"color-1 reactive\" height=\"12\" width=\"12\" x=\"356.2\" y=\"11.0\"/><text x=\"373.2\" y=\"27.2\">Negative</text></g></g></g></svg>'\n",
       "    </figure>\n",
       "  </body>\n",
       "</html>\n"
      ],
      "text/plain": [
       "<IPython.core.display.HTML object>"
      ]
     },
     "execution_count": 21,
     "metadata": {},
     "output_type": "execute_result"
    }
   ],
   "source": [
    "line_chart = pygal.StackedBar(y_labels=range(0,2501, 500),\n",
    "                              print_values=True,\n",
    "                             **my_kwargs)\n",
    "line_chart.x_labels = ['GeneReg', 'Top2241']\n",
    "line_chart.add('Positive', [genereg_cntr['1'], top_cntr['1']])\n",
    "line_chart.add('Negative',  [genereg_cntr['0'], top_cntr['0']])\n",
    "line_chart.render()\n",
    "line_chart.render_to_file(out_base + 'dataset_comparison.svg')\n",
    "line_chart.render_to_png(out_base + 'dataset_comparison.png')\n",
    "HTML(html_pygal.format(pygal_render=line_chart.render()))\n"
   ]
  },
  {
   "cell_type": "code",
   "execution_count": 20,
   "metadata": {
    "collapsed": false,
    "deletable": true,
    "editable": true
   },
   "outputs": [
    {
     "data": {
      "text/html": [
       "\n",
       "<!DOCTYPE html>\n",
       "<html>\n",
       "  <head>\n",
       "  <script type=\"text/javascript\" src=\"http://kozea.github.com/pygal.js/javascripts/svg.jquery.js\"></script>\n",
       "  <script type=\"text/javascript\" src=\"http://kozea.github.com/pygal.js/javascripts/pygal-tooltips.js\"></script>\n",
       "    <!-- ... -->\n",
       "  </head>\n",
       "  <body>\n",
       "    <figure style=\"width:50%;\">\n",
       "      b'<?xml version=\\'1.0\\' encoding=\\'utf-8\\'?>\\n<svg xmlns:xlink=\"http://www.w3.org/1999/xlink\" xmlns=\"http://www.w3.org/2000/svg\" id=\"chart-3519cc7f-580a-4687-beb6-d01b63ab7457\" class=\"pygal-chart\" viewBox=\"0 0 800 600\"><!--Generated with pygal 2.4.0 (lxml) \\xc2\\xa9Kozea 2012-2016 on 2017-07-11--><!--http://pygal.org--><!--http://github.com/Kozea/pygal--><defs><style type=\"text/css\">#chart-3519cc7f-580a-4687-beb6-d01b63ab7457{-webkit-user-select:none;-webkit-font-smoothing:antialiased;font-family:Consolas,\"Liberation Mono\",Menlo,Courier,monospace}#chart-3519cc7f-580a-4687-beb6-d01b63ab7457 .title{font-family:Consolas,\"Liberation Mono\",Menlo,Courier,monospace;font-size:16px}#chart-3519cc7f-580a-4687-beb6-d01b63ab7457 .legends .legend text{font-family:Consolas,\"Liberation Mono\",Menlo,Courier,monospace;font-size:34px}#chart-3519cc7f-580a-4687-beb6-d01b63ab7457 .axis text{font-family:Consolas,\"Liberation Mono\",Menlo,Courier,monospace;font-size:34px}#chart-3519cc7f-580a-4687-beb6-d01b63ab7457 .axis text.major{font-family:Consolas,\"Liberation Mono\",Menlo,Courier,monospace;font-size:34px}#chart-3519cc7f-580a-4687-beb6-d01b63ab7457 .text-overlay text.value{font-family:sans-serif;font-size:38px}#chart-3519cc7f-580a-4687-beb6-d01b63ab7457 .text-overlay text.label{font-family:Consolas,\"Liberation Mono\",Menlo,Courier,monospace;font-size:10px}#chart-3519cc7f-580a-4687-beb6-d01b63ab7457 .tooltip{font-family:Consolas,\"Liberation Mono\",Menlo,Courier,monospace;font-size:14px}#chart-3519cc7f-580a-4687-beb6-d01b63ab7457 text.no_data{font-family:Consolas,\"Liberation Mono\",Menlo,Courier,monospace;font-size:64px}\\n#chart-3519cc7f-580a-4687-beb6-d01b63ab7457{background-color:white}#chart-3519cc7f-580a-4687-beb6-d01b63ab7457 path,#chart-3519cc7f-580a-4687-beb6-d01b63ab7457 line,#chart-3519cc7f-580a-4687-beb6-d01b63ab7457 rect,#chart-3519cc7f-580a-4687-beb6-d01b63ab7457 circle{-webkit-transition:150ms;-moz-transition:150ms;transition:150ms}#chart-3519cc7f-580a-4687-beb6-d01b63ab7457 .graph &gt; .background{fill:white}#chart-3519cc7f-580a-4687-beb6-d01b63ab7457 .plot &gt; .background{fill:white}#chart-3519cc7f-580a-4687-beb6-d01b63ab7457 .graph{fill:rgba(0,0,0,.87)}#chart-3519cc7f-580a-4687-beb6-d01b63ab7457 text.no_data{fill:rgba(0,0,0,1)}#chart-3519cc7f-580a-4687-beb6-d01b63ab7457 .title{fill:rgba(0,0,0,1)}#chart-3519cc7f-580a-4687-beb6-d01b63ab7457 .legends .legend text{fill:rgba(0,0,0,.87)}#chart-3519cc7f-580a-4687-beb6-d01b63ab7457 .legends .legend:hover text{fill:rgba(0,0,0,1)}#chart-3519cc7f-580a-4687-beb6-d01b63ab7457 .axis .line{stroke:rgba(0,0,0,1)}#chart-3519cc7f-580a-4687-beb6-d01b63ab7457 .axis .guide.line{stroke:rgba(0,0,0,.54)}#chart-3519cc7f-580a-4687-beb6-d01b63ab7457 .axis .major.line{stroke:rgba(0,0,0,.87)}#chart-3519cc7f-580a-4687-beb6-d01b63ab7457 .axis text.major{fill:rgba(0,0,0,1)}#chart-3519cc7f-580a-4687-beb6-d01b63ab7457 .axis.y .guides:hover .guide.line,#chart-3519cc7f-580a-4687-beb6-d01b63ab7457 .line-graph .axis.x .guides:hover .guide.line,#chart-3519cc7f-580a-4687-beb6-d01b63ab7457 .stackedline-graph .axis.x .guides:hover .guide.line,#chart-3519cc7f-580a-4687-beb6-d01b63ab7457 .xy-graph .axis.x .guides:hover .guide.line{stroke:rgba(0,0,0,1)}#chart-3519cc7f-580a-4687-beb6-d01b63ab7457 .axis .guides:hover text{fill:rgba(0,0,0,1)}#chart-3519cc7f-580a-4687-beb6-d01b63ab7457 .reactive{fill-opacity:.7;stroke-opacity:.8}#chart-3519cc7f-580a-4687-beb6-d01b63ab7457 .ci{stroke:rgba(0,0,0,.87)}#chart-3519cc7f-580a-4687-beb6-d01b63ab7457 .reactive.active,#chart-3519cc7f-580a-4687-beb6-d01b63ab7457 .active .reactive{fill-opacity:.8;stroke-opacity:.9;stroke-width:4}#chart-3519cc7f-580a-4687-beb6-d01b63ab7457 .ci .reactive.active{stroke-width:1.5}#chart-3519cc7f-580a-4687-beb6-d01b63ab7457 .series text{fill:rgba(0,0,0,1)}#chart-3519cc7f-580a-4687-beb6-d01b63ab7457 .tooltip rect{fill:white;stroke:rgba(0,0,0,1);-webkit-transition:opacity 150ms;-moz-transition:opacity 150ms;transition:opacity 150ms}#chart-3519cc7f-580a-4687-beb6-d01b63ab7457 .tooltip .label{fill:rgba(0,0,0,.87)}#chart-3519cc7f-580a-4687-beb6-d01b63ab7457 .tooltip .label{fill:rgba(0,0,0,.87)}#chart-3519cc7f-580a-4687-beb6-d01b63ab7457 .tooltip .legend{font-size:.8em;fill:rgba(0,0,0,.54)}#chart-3519cc7f-580a-4687-beb6-d01b63ab7457 .tooltip .x_label{font-size:.6em;fill:rgba(0,0,0,1)}#chart-3519cc7f-580a-4687-beb6-d01b63ab7457 .tooltip .xlink{font-size:.5em;text-decoration:underline}#chart-3519cc7f-580a-4687-beb6-d01b63ab7457 .tooltip .value{font-size:1.5em}#chart-3519cc7f-580a-4687-beb6-d01b63ab7457 .bound{font-size:.5em}#chart-3519cc7f-580a-4687-beb6-d01b63ab7457 .max-value{font-size:.75em;fill:rgba(0,0,0,.54)}#chart-3519cc7f-580a-4687-beb6-d01b63ab7457 .map-element{fill:white;stroke:rgba(0,0,0,.54) !important}#chart-3519cc7f-580a-4687-beb6-d01b63ab7457 .map-element .reactive{fill-opacity:inherit;stroke-opacity:inherit}#chart-3519cc7f-580a-4687-beb6-d01b63ab7457 .color-0,#chart-3519cc7f-580a-4687-beb6-d01b63ab7457 .color-0 a:visited{stroke:#F44336;fill:#F44336}#chart-3519cc7f-580a-4687-beb6-d01b63ab7457 .color-1,#chart-3519cc7f-580a-4687-beb6-d01b63ab7457 .color-1 a:visited{stroke:#3F51B5;fill:#3F51B5}#chart-3519cc7f-580a-4687-beb6-d01b63ab7457 .text-overlay .color-0 text{fill:white}#chart-3519cc7f-580a-4687-beb6-d01b63ab7457 .text-overlay .color-1 text{fill:white}\\n#chart-3519cc7f-580a-4687-beb6-d01b63ab7457 text.no_data{text-anchor:middle}#chart-3519cc7f-580a-4687-beb6-d01b63ab7457 .guide.line{fill:none}#chart-3519cc7f-580a-4687-beb6-d01b63ab7457 .centered{text-anchor:middle}#chart-3519cc7f-580a-4687-beb6-d01b63ab7457 .title{text-anchor:middle}#chart-3519cc7f-580a-4687-beb6-d01b63ab7457 .legends .legend text{fill-opacity:1}#chart-3519cc7f-580a-4687-beb6-d01b63ab7457 .axis.x text{text-anchor:middle}#chart-3519cc7f-580a-4687-beb6-d01b63ab7457 .axis.x:not(.web) text[transform]{text-anchor:start}#chart-3519cc7f-580a-4687-beb6-d01b63ab7457 .axis.x:not(.web) text[transform].backwards{text-anchor:end}#chart-3519cc7f-580a-4687-beb6-d01b63ab7457 .axis.y text{text-anchor:end}#chart-3519cc7f-580a-4687-beb6-d01b63ab7457 .axis.y text[transform].backwards{text-anchor:start}#chart-3519cc7f-580a-4687-beb6-d01b63ab7457 .axis.y2 text{text-anchor:start}#chart-3519cc7f-580a-4687-beb6-d01b63ab7457 .axis.y2 text[transform].backwards{text-anchor:end}#chart-3519cc7f-580a-4687-beb6-d01b63ab7457 .axis .guide.line{stroke-dasharray:4,4}#chart-3519cc7f-580a-4687-beb6-d01b63ab7457 .axis .major.guide.line{stroke-dasharray:6,6}#chart-3519cc7f-580a-4687-beb6-d01b63ab7457 .horizontal .axis.y .guide.line,#chart-3519cc7f-580a-4687-beb6-d01b63ab7457 .horizontal .axis.y2 .guide.line,#chart-3519cc7f-580a-4687-beb6-d01b63ab7457 .vertical .axis.x .guide.line{opacity:0}#chart-3519cc7f-580a-4687-beb6-d01b63ab7457 .horizontal .axis.always_show .guide.line,#chart-3519cc7f-580a-4687-beb6-d01b63ab7457 .vertical .axis.always_show .guide.line{opacity:1 !important}#chart-3519cc7f-580a-4687-beb6-d01b63ab7457 .axis.y .guides:hover .guide.line,#chart-3519cc7f-580a-4687-beb6-d01b63ab7457 .axis.y2 .guides:hover .guide.line,#chart-3519cc7f-580a-4687-beb6-d01b63ab7457 .axis.x .guides:hover .guide.line{opacity:1}#chart-3519cc7f-580a-4687-beb6-d01b63ab7457 .axis .guides:hover text{opacity:1}#chart-3519cc7f-580a-4687-beb6-d01b63ab7457 .nofill{fill:none}#chart-3519cc7f-580a-4687-beb6-d01b63ab7457 .subtle-fill{fill-opacity:.2}#chart-3519cc7f-580a-4687-beb6-d01b63ab7457 .dot{stroke-width:1px;fill-opacity:1}#chart-3519cc7f-580a-4687-beb6-d01b63ab7457 .dot.active{stroke-width:5px}#chart-3519cc7f-580a-4687-beb6-d01b63ab7457 .dot.negative{fill:transparent}#chart-3519cc7f-580a-4687-beb6-d01b63ab7457 text,#chart-3519cc7f-580a-4687-beb6-d01b63ab7457 tspan{stroke:none !important}#chart-3519cc7f-580a-4687-beb6-d01b63ab7457 .series text.active{opacity:1}#chart-3519cc7f-580a-4687-beb6-d01b63ab7457 .tooltip rect{fill-opacity:.95;stroke-width:.5}#chart-3519cc7f-580a-4687-beb6-d01b63ab7457 .tooltip text{fill-opacity:1}#chart-3519cc7f-580a-4687-beb6-d01b63ab7457 .showable{visibility:hidden}#chart-3519cc7f-580a-4687-beb6-d01b63ab7457 .showable.shown{visibility:visible}#chart-3519cc7f-580a-4687-beb6-d01b63ab7457 .gauge-background{fill:rgba(229,229,229,1);stroke:none}#chart-3519cc7f-580a-4687-beb6-d01b63ab7457 .bg-lines{stroke:white;stroke-width:2px}</style><script type=\"text/javascript\">window.pygal = window.pygal || {};window.pygal.config = window.pygal.config || {};window.pygal.config[\\'3519cc7f-580a-4687-beb6-d01b63ab7457\\'] = {\"box_mode\": \"extremes\", \"x_labels_major_every\": null, \"legend_at_bottom\": true, \"allow_interruptions\": false, \"pretty_print\": false, \"legends\": [\"Top2500\", \"Top2241\"], \"min_scale\": 4, \"rounded_bars\": null, \"margin_right\": -2, \"show_minor_x_labels\": true, \"title\": null, \"y_labels_major_every\": 10000, \"no_data_text\": \"No data\", \"print_values_position\": \"center\", \"missing_value_fill_truncation\": \"x\", \"y_labels_major_count\": null, \"js\": [\"//kozea.github.io/pygal.js/2.0.x/pygal-tooltips.min.js\"], \"stack_from_top\": false, \"zero\": 0, \"dots_size\": 2.5, \"range\": null, \"margin_bottom\": -45, \"x_title\": null, \"legend_at_bottom_columns\": null, \"tooltip_fancy_mode\": true, \"style\": {\"value_background\": \"rgba(229, 229, 229, 1)\", \"colors\": [\"#F44336\", \"#3F51B5\", \"#009688\", \"#FFC107\", \"#FF5722\", \"#9C27B0\", \"#03A9F4\", \"#8BC34A\", \"#FF9800\", \"#E91E63\", \"#2196F3\", \"#4CAF50\", \"#FFEB3B\", \"#673AB7\", \"#00BCD4\", \"#CDDC39\", \"#9E9E9E\", \"#607D8B\"], \"title_font_family\": \"Consolas, \\\\\"Liberation Mono\\\\\", Menlo, Courier, monospace\", \"foreground_subtle\": \"rgba(0, 0, 0, .54)\", \"stroke_opacity\": \".8\", \"tooltip_font_size\": 14, \"value_label_font_size\": 10, \"no_data_font_size\": 64, \"ci_colors\": [], \"background\": \"white\", \"major_label_font_family\": \"Consolas, \\\\\"Liberation Mono\\\\\", Menlo, Courier, monospace\", \"opacity_hover\": \".8\", \"value_label_font_family\": \"Consolas, \\\\\"Liberation Mono\\\\\", Menlo, Courier, monospace\", \"legend_font_family\": \"Consolas, \\\\\"Liberation Mono\\\\\", Menlo, Courier, monospace\", \"no_data_font_family\": \"Consolas, \\\\\"Liberation Mono\\\\\", Menlo, Courier, monospace\", \"label_font_size\": 34, \"major_guide_stroke_dasharray\": \"6,6\", \"guide_stroke_dasharray\": \"4,4\", \"font_family\": \"Consolas, \\\\\"Liberation Mono\\\\\", Menlo, Courier, monospace\", \"transition\": \"150ms\", \"title_font_size\": 16, \"stroke_opacity_hover\": \".9\", \"label_font_family\": \"Consolas, \\\\\"Liberation Mono\\\\\", Menlo, Courier, monospace\", \"foreground_strong\": \"rgba(0, 0, 0, 1)\", \"legend_font_size\": 34, \"plot_background\": \"white\", \"value_font_family\": \"sans-serif\", \"tooltip_font_family\": \"Consolas, \\\\\"Liberation Mono\\\\\", Menlo, Courier, monospace\", \"major_label_font_size\": 34, \"value_font_size\": 38, \"value_colors\": [\"white\", \"white\"], \"opacity\": \".7\", \"foreground\": \"rgba(0, 0, 0, .87)\"}, \"logarithmic\": false, \"y_labels\": [0, 500, 1000, 1500, 2000], \"y_title\": null, \"y_label_rotation\": 0, \"secondary_range\": null, \"no_prefix\": false, \"margin_top\": 5, \"order_min\": null, \"interpolate\": null, \"x_labels_major\": null, \"disable_xml_declaration\": false, \"tooltip_border_radius\": 0, \"half_pie\": false, \"height\": 600, \"x_labels\": [\"Positives\", \"Negatives\"], \"margin\": 20, \"max_scale\": 16, \"print_labels\": false, \"show_y_guides\": true, \"classes\": [\"pygal-chart\"], \"include_x_axis\": false, \"print_values\": true, \"interpolation_parameters\": {}, \"show_only_major_dots\": false, \"force_uri_protocol\": \"https\", \"interpolation_precision\": 250, \"y_labels_major\": null, \"width\": 800, \"dynamic_print_values\": false, \"defs\": [], \"inverse_y_axis\": false, \"formatter\": null, \"strict\": false, \"inner_radius\": 0, \"css\": [\"file://style.css\", \"file://graph.css\"], \"margin_left\": -2, \"show_dots\": true, \"fill\": false, \"explicit_size\": false, \"x_labels_major_count\": null, \"truncate_legend\": null, \"show_minor_y_labels\": true, \"stroke_style\": null, \"show_y_labels\": true, \"show_legend\": true, \"show_x_labels\": true, \"spacing\": 10, \"show_x_guides\": false, \"print_zeroes\": true, \"xrange\": null, \"truncate_label\": null, \"x_label_rotation\": 0, \"legend_box_size\": 12, \"stroke\": true}</script><script type=\"text/javascript\" xlink:href=\"https://kozea.github.io/pygal.js/2.0.x/pygal-tooltips.min.js\"/></defs><title>Pygal</title><g class=\"graph bar-graph vertical\"><rect class=\"background\" height=\"600\" width=\"800\" x=\"0\" y=\"0\"/><g class=\"plot\" transform=\"translate(89, 5)\"><rect class=\"background\" height=\"501.0\" width=\"712.4\" x=\"0\" y=\"0\"/><g class=\"axis y always_show\"><g class=\"guides\"><path class=\"axis major line\" d=\"M0.000000 491.365385 h712.400000\"/><text class=\"major\" x=\"-5\" y=\"503.2653846153846\">0</text><title>0</title></g><g class=\"guides\"><path class=\"guide line\" d=\"M0.000000 370.932692 h712.400000\"/><text class=\"\" x=\"-5\" y=\"382.8326923076923\">500</text><title>500</title></g><g class=\"guides\"><path class=\"guide line\" d=\"M0.000000 250.500000 h712.400000\"/><text class=\"\" x=\"-5\" y=\"262.4\">1000</text><title>1000</title></g><g class=\"guides\"><path class=\"guide line\" d=\"M0.000000 130.067308 h712.400000\"/><text class=\"\" x=\"-5\" y=\"141.96730769230768\">1500</text><title>1500</title></g><g class=\"guides\"><path class=\"guide line\" d=\"M0.000000 9.634615 h712.400000\"/><text class=\"\" x=\"-5\" y=\"21.534615384615357\">2000</text><title>2000</title></g></g><g class=\"axis x\"><path class=\"line\" d=\"M0.000000 0.000000 v501.000000\"/><g class=\"guides\"><path class=\"guide line\" d=\"M184.950000 0.000000 v501.000000\"/><text class=\"\" x=\"184.95000000000002\" y=\"528.0\">Positives</text></g><g class=\"guides\"><path class=\"guide line\" d=\"M527.450000 0.000000 v501.000000\"/><text class=\"\" x=\"527.4499999999999\" y=\"528.0\">Negatives</text></g></g><g class=\"series serie-0 color-0\"><g class=\"bars\"><g class=\"bar\"><rect class=\"rect reactive tooltip-trigger\" height=\"447.28701923076926\" rx=\"0\" ry=\"0\" width=\"132.61599999999999\" x=\"43.292\" y=\"44.07836538461538\"/><desc class=\"value\">1857</desc><desc class=\"x centered\">109.6</desc><desc class=\"y centered\">267.721875</desc><desc class=\"x_label\">Positives</desc></g><g class=\"bar\"><rect class=\"rect reactive tooltip-trigger\" height=\"154.87644230769234\" rx=\"0\" ry=\"0\" width=\"132.61599999999999\" x=\"385.792\" y=\"336.4889423076923\"/><desc class=\"value\">643</desc><desc class=\"x centered\">452.09999999999997</desc><desc class=\"y centered\">413.9271634615385</desc><desc class=\"x_label\">Negatives</desc></g></g></g><g class=\"series serie-1 color-1\"><g class=\"bars\"><g class=\"bar\"><rect class=\"rect reactive tooltip-trigger\" height=\"396.9461538461539\" rx=\"0\" ry=\"0\" width=\"132.61599999999999\" x=\"193.992\" y=\"94.41923076923075\"/><desc class=\"value\">1648</desc><desc class=\"x centered\">260.29999999999995</desc><desc class=\"y centered\">292.89230769230767</desc><desc class=\"x_label\">Positives</desc></g><g class=\"bar\"><rect class=\"rect reactive tooltip-trigger\" height=\"142.83317307692312\" rx=\"0\" ry=\"0\" width=\"132.61599999999999\" x=\"536.4920000000001\" y=\"348.5322115384615\"/><desc class=\"value\">593</desc><desc class=\"x centered\">602.8000000000001</desc><desc class=\"y centered\">419.9487980769231</desc><desc class=\"x_label\">Negatives</desc></g></g></g></g><g class=\"titles\"/><g class=\"plot overlay\" transform=\"translate(89, 5)\"><g class=\"series serie-0 color-0\"/><g class=\"series serie-1 color-1\"/></g><g class=\"plot text-overlay\" transform=\"translate(89, 5)\"><g class=\"series serie-0 color-0\"><text class=\"value\" text-anchor=\"middle\" x=\"109.6\" y=\"280.3885416666667\">1857</text><text class=\"value\" text-anchor=\"middle\" x=\"452.09999999999997\" y=\"426.5938301282052\">643</text></g><g class=\"series serie-1 color-1\"><text class=\"value\" text-anchor=\"middle\" x=\"260.29999999999995\" y=\"305.55897435897435\">1648</text><text class=\"value\" text-anchor=\"middle\" x=\"602.8000000000001\" y=\"432.61546474358977\">593</text></g></g><g class=\"plot tooltip-overlay\" transform=\"translate(89, 5)\"><g class=\"tooltip\" style=\"opacity: 0\" transform=\"translate(0 0)\"><rect class=\"tooltip-box\" height=\"0\" rx=\"0\" ry=\"0\" width=\"0\"/><g class=\"text\"/></g></g><g class=\"legends\" transform=\"translate(99, 560)\"><g class=\"legend reactive activate-serie\" id=\"activate-serie-0\"><rect class=\"color-0 reactive\" height=\"12\" width=\"12\" x=\"0.0\" y=\"11.0\"/><text x=\"17.0\" y=\"27.2\">Top2500</text></g><g class=\"legend reactive activate-serie\" id=\"activate-serie-1\"><rect class=\"color-1 reactive\" height=\"12\" width=\"12\" x=\"356.2\" y=\"11.0\"/><text x=\"373.2\" y=\"27.2\">Top2241</text></g></g></g></svg>'\n",
       "    </figure>\n",
       "  </body>\n",
       "</html>\n"
      ],
      "text/plain": [
       "<IPython.core.display.HTML object>"
      ]
     },
     "execution_count": 20,
     "metadata": {},
     "output_type": "execute_result"
    }
   ],
   "source": [
    "# y_labels=[0.0, 0.2, 0.4, 0.6, 0.8, 1],\n",
    "line_chart = pygal.Bar(y_labels=range(0,2001, 500),\n",
    "                              print_values=True,\n",
    "                             **my_kwargs)\n",
    "line_chart.x_labels = ['Positives', 'Negatives']\n",
    "line_chart.add('Top2500', [1857, 643])\n",
    "line_chart.add('Top2241',  [top_cntr['1'], top_cntr['0']])\n",
    "line_chart.render()\n",
    "line_chart.render_to_file(out_base + 'top_comparison.svg')\n",
    "line_chart.render_to_png(out_base + 'top_comparison.png')\n",
    "HTML(html_pygal.format(pygal_render=line_chart.render()))"
   ]
  }
 ],
 "metadata": {
  "kernelspec": {
   "display_name": "Python 3",
   "language": "python",
   "name": "python3"
  },
  "language_info": {
   "codemirror_mode": {
    "name": "ipython",
    "version": 3
   },
   "file_extension": ".py",
   "mimetype": "text/x-python",
   "name": "python",
   "nbconvert_exporter": "python",
   "pygments_lexer": "ipython3",
   "version": "3.5.3"
  }
 },
 "nbformat": 4,
 "nbformat_minor": 2
}
